{
  "nbformat": 4,
  "nbformat_minor": 0,
  "metadata": {
    "colab": {
      "provenance": []
    },
    "kernelspec": {
      "name": "python3",
      "display_name": "Python 3"
    },
    "language_info": {
      "name": "python"
    }
  },
  "cells": [
    {
      "cell_type": "code",
      "execution_count": 1,
      "metadata": {
        "colab": {
          "base_uri": "https://localhost:8080/"
        },
        "id": "Kgi36sS11XJP",
        "outputId": "c3330fea-00ad-4e36-82a3-25188c25b397"
      },
      "outputs": [
        {
          "output_type": "stream",
          "name": "stdout",
          "text": [
            "enter first number45\n",
            "enter secund number65\n",
            "multiplication of two number is 2925\n"
          ]
        }
      ],
      "source": [
        "# multiplication of two numer\n",
        "a=int(input(\"enter first number\"))\n",
        "b=int(input(\"enter secund number\"))\n",
        "c=a*b\n",
        "print(\"multiplication of two number is\",c)"
      ]
    }
  ]
}