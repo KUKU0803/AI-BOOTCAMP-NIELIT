{
  "nbformat": 4,
  "nbformat_minor": 0,
  "metadata": {
    "colab": {
      "provenance": []
    },
    "kernelspec": {
      "name": "python3",
      "display_name": "Python 3"
    },
    "language_info": {
      "name": "python"
    }
  },
  "cells": [
    {
      "cell_type": "code",
      "execution_count": null,
      "metadata": {
        "id": "Kgi36sS11XJP"
      },
      "outputs": [],
      "source": [
        "# multiplication of two numer\n",
        "a=int(input(\"enter first number\"))\n",
        "b=int(input(\"enter secund number\"))\n",
        "c=a*b\n",
        "print(\"multiplication of two number is\",c)"
      ]
    }
  ]
}