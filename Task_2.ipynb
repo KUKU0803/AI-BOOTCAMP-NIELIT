{
  "nbformat": 4,
  "nbformat_minor": 0,
  "metadata": {
    "colab": {
      "provenance": []
    },
    "kernelspec": {
      "name": "python3",
      "display_name": "Python 3"
    },
    "language_info": {
      "name": "python"
    }
  },
  "cells": [
    {
      "cell_type": "code",
      "execution_count": 1,
      "metadata": {
        "colab": {
          "base_uri": "https://localhost:8080/"
        },
        "id": "Tpz2D-uUwmYG",
        "outputId": "ce3e6bd7-1737-4760-f27c-72650ed46644"
      },
      "outputs": [
        {
          "output_type": "stream",
          "name": "stdout",
          "text": [
            "value of sum = 116\n"
          ]
        }
      ],
      "source": [
        "a=84\n",
        "b=32\n",
        "c=a+b\n",
        "print(\"value of sum =\",c)"
      ]
    }
  ]
}